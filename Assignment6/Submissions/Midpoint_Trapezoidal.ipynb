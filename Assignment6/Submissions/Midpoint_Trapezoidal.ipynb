{
 "cells": [
  {
   "cell_type": "code",
   "execution_count": 49,
   "id": "32991978",
   "metadata": {},
   "outputs": [],
   "source": [
    "import numpy as np"
   ]
  },
  {
   "cell_type": "code",
   "execution_count": 50,
   "id": "7b61f1e6",
   "metadata": {},
   "outputs": [],
   "source": [
    "import sys\n",
    "# Go up two levels to reach the folder containing alan_lib.py\n",
    "sys.path.append(\"../..\")\n",
    "from alan_lib import *\n"
   ]
  },
  {
   "cell_type": "markdown",
   "id": "99133080",
   "metadata": {},
   "source": [
    "# Question 1\n"
   ]
  },
  {
   "cell_type": "code",
   "execution_count": 51,
   "id": "12464da1",
   "metadata": {},
   "outputs": [],
   "source": [
    "def f1(x):\n",
    "    return 1/x\n",
    "\n",
    "def f2(x):\n",
    "    return x* np.cos(x)\n",
    "\n",
    "def f3(x):\n",
    "    return x*np.arctan(x)"
   ]
  },
  {
   "cell_type": "code",
   "execution_count": 52,
   "id": "94321cf6",
   "metadata": {},
   "outputs": [],
   "source": [
    "N = [4, 8, 15, 20]\n",
    "\n",
    "# Integrate class imported from alan_lib\n",
    "Midpoint = Integrate.Midpoint\n",
    "Trapezoid = Integrate.Trapezoid\n",
    "\n",
    "Midpoint_vals1, Trapezoid_vals1 = [Midpoint(f1, 1, 2, n) for n in N], [Trapezoid(f1, 1, 2, n) for n in N]\n",
    "Midpoint_vals2, Trapezoid_vals2 = [Midpoint(f2, 0, np.pi/2, n) for n in N], [Trapezoid(f2, 0, np.pi/2, n) for n in N]\n",
    "Midpoint_vals3, Trapezoid_vals3 = [Midpoint(f3, 0, 1, n) for n in N], [Trapezoid(f3, 0, 1, n) for n in N]\n",
    "    "
   ]
  },
  {
   "cell_type": "code",
   "execution_count": 59,
   "id": "16c3da1f",
   "metadata": {},
   "outputs": [
    {
     "name": "stdout",
     "output_type": "stream",
     "text": [
      "f1 = 1/x :  ANALYTICAL RESULT = 0.69314718\n",
      "\n",
      "                   CALCULATED VALUES\n",
      "       |      Midpoint          |         Trapezoidal |\n",
      "n = 4: |  0.6912198912198912 |  0.6970238095238095    |\n",
      "n = 8: |  0.6926605540432034 |  0.6941218503718504    |\n",
      "n = 15: |  0.6930084263712957 |  0.6934248043580646    |\n",
      "n = 20: |  0.6930690982255869 |  0.693303381792694    |\n"
     ]
    }
   ],
   "source": [
    "# f1 = 1/x\n",
    "print('f1 = 1/x :  ANALYTICAL RESULT = 0.69314718\\n')\n",
    "print('                   CALCULATED VALUES')\n",
    "print('       |      Midpoint          |         Trapezoidal |')\n",
    "for i, j, n in zip(Midpoint_vals1, Trapezoid_vals1, N):\n",
    "    print(f'n = {n}: |  {i} |  {j}    |')\n"
   ]
  },
  {
   "cell_type": "code",
   "execution_count": 77,
   "id": "6bd40a16",
   "metadata": {},
   "outputs": [
    {
     "name": "stdout",
     "output_type": "stream",
     "text": [
      "f2 = xcosx :  ANALYTICAL RESULT = 0.5707963267948966\n",
      "\n",
      "                   CALCULATED VALUES\n",
      "       |     Midpoint        |       Trapezpoidal  \n",
      "n = 4: |  0.5874479167573121 |  0.5376071275673585   \n",
      "n = 8: |  0.5749342733821311 |  0.5625275221623354   \n",
      "n = 15: |  0.5719716590967575 |  0.5684462350385163   \n",
      "n = 20: |  0.5714572867152204 |  0.569474588169518   \n"
     ]
    }
   ],
   "source": [
    "# f2\n",
    "x = np.pi/2 -1\n",
    "print(f'f2 = xcosx :  ANALYTICAL RESULT = {x}\\n')\n",
    "print('                   CALCULATED VALUES')\n",
    "print('       |     Midpoint        |       Trapezpoidal  ')\n",
    "for i, j, n in zip(Midpoint_vals2, Trapezoid_vals2, N):\n",
    "    print(f'n = {n}: |  {i} |  {j}   ')"
   ]
  },
  {
   "cell_type": "code",
   "execution_count": 75,
   "id": "e8827481",
   "metadata": {},
   "outputs": [
    {
     "name": "stdout",
     "output_type": "stream",
     "text": [
      "f3 = xarctanx :  ANALYTICAL RESULT = 0.2853981633974483\n",
      "\n",
      "                   CALCULATED VALUES\n",
      "       |      Midpoint       |       Trapezoidal \n",
      "n = 4: |  0.2820460493571144 |  0.2920983458939516    \n",
      "n = 8: |  0.2845610193056679 |  0.28707219762553304    \n",
      "n = 15: |  0.28516010270349235 |  0.28587426421741274    \n",
      "n = 20: |  0.28526426016144524 |  0.285665963360493    \n"
     ]
    }
   ],
   "source": [
    "# f3\n",
    "x = np.pi/4 -1/2\n",
    "print(f'f3 = xarctanx :  ANALYTICAL RESULT = {x}\\n')\n",
    "print('                   CALCULATED VALUES')\n",
    "print('       |      Midpoint       |       Trapezoidal ')\n",
    "for i, j, n in zip(Midpoint_vals3, Trapezoid_vals3, N):\n",
    "    print(f'n = {n}: |  {i} |  {j}    ')"
   ]
  }
 ],
 "metadata": {
  "kernelspec": {
   "display_name": "p346_env",
   "language": "python",
   "name": "python3"
  },
  "language_info": {
   "codemirror_mode": {
    "name": "ipython",
    "version": 3
   },
   "file_extension": ".py",
   "mimetype": "text/x-python",
   "name": "python",
   "nbconvert_exporter": "python",
   "pygments_lexer": "ipython3",
   "version": "3.11.13"
  }
 },
 "nbformat": 4,
 "nbformat_minor": 5
}
