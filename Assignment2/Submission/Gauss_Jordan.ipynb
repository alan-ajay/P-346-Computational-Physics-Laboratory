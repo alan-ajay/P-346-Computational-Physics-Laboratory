{
 "cells": [
  {
   "cell_type": "markdown",
   "id": "803728b1",
   "metadata": {},
   "source": [
    "***Name: Alan Ajay***\n",
    "\n",
    "***Roll number: 2311018***\n",
    "\n",
    "\n",
    "***Date: 20/08/2025***"
   ]
  },
  {
   "cell_type": "markdown",
   "id": "080bd43a",
   "metadata": {},
   "source": [
    "# Question1"
   ]
  },
  {
   "cell_type": "code",
   "execution_count": null,
   "id": "cd650218",
   "metadata": {},
   "outputs": [
    {
     "name": "stdout",
     "output_type": "stream",
     "text": [
      "[[1.0, 0.0, 0.0, -2.0], [0.0, 1.0, 0.0, -2.0], [0.0, 0.0, 1.0, 1.0]]\n",
      "[-2.0, -2.0, 1.0]\n"
     ]
    }
   ],
   "source": [
    "from mylib_3 import*\n",
    "\n",
    "A = [[0, 2, 5], [3, -1, 2], [1, -1, 3]]\n",
    "b = [1, -2, 3]\n",
    "\n",
    "                     \n",
    "sol = gauss_jordan(A, b)\n",
    "print(sol['Augmented Matrix'])\n",
    "print(sol['Solution']  )\n"
   ]
  },
  {
   "cell_type": "markdown",
   "id": "c00745a7",
   "metadata": {},
   "source": [
    "# Question 2"
   ]
  },
  {
   "cell_type": "code",
   "execution_count": 62,
   "id": "e16b895d",
   "metadata": {},
   "outputs": [
    {
     "name": "stdout",
     "output_type": "stream",
     "text": [
      "solution: \n",
      " [-1.7618170439978602, 0.8962280338740125, 4.051931404116157, -1.6171308025395417, 2.0419135385019125, 0.15183248715593567]\n"
     ]
    }
   ],
   "source": [
    "A = [[1, -1, 4, 0, 2, 9], [0, 5, -2, 7, 8, 4], [1, 0, 5, 7, 3 , -2], [6, -1, 2, 3, 0, 8], [-4, 2, 0, 5, -5, 3], [0, 7, -1, 5, 4, -2]]\n",
    "\n",
    "b = [19, 2, 13, -7, -9, 2]\n",
    "\n",
    "sol = gauss_jordan(A, b)\n",
    "print('solution: \\n', sol['Solution'])\n",
    "\n"
   ]
  },
  {
   "cell_type": "code",
   "execution_count": 60,
   "id": "5fa122b2",
   "metadata": {},
   "outputs": [
    {
     "name": "stdout",
     "output_type": "stream",
     "text": [
      "Augmented Matrix: \n",
      " [[1.0, 0.0, 0.0, -2.9534265567317324e-17, 0.0, 0.0, -1.7618170439978602], [0.0, 1.0, 0.0, 2.1719684135218227e-17, 0.0, 0.0, 0.8962280338740125], [0.0, 0.0, 1.0, 1.218261139756536e-16, 0.0, 0.0, 4.051931404116157], [-0.0, -0.0, -0.0, 1.0, 0.0, 0.0, -1.6171308025395417], [-0.0, -0.0, -0.0, 6.723666536544683e-18, 1.0, 0.0, 2.0419135385019125], [-0.0, -0.0, -0.0, 3.02385696370204e-17, -0.0, 1.0, 0.15183248715593567]]\n"
     ]
    }
   ],
   "source": [
    "print('Augmented Matrix: \\n', sol['Augmented Matrix'])"
   ]
  }
 ],
 "metadata": {
  "kernelspec": {
   "display_name": "p346_env",
   "language": "python",
   "name": "python3"
  },
  "language_info": {
   "codemirror_mode": {
    "name": "ipython",
    "version": 3
   },
   "file_extension": ".py",
   "mimetype": "text/x-python",
   "name": "python",
   "nbconvert_exporter": "python",
   "pygments_lexer": "ipython3",
   "version": "3.11.13"
  }
 },
 "nbformat": 4,
 "nbformat_minor": 5
}
