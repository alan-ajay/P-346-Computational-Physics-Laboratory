{
 "cells": [
  {
   "cell_type": "markdown",
   "id": "aa4d7fec",
   "metadata": {},
   "source": [
    "***Name: Alan Ajay***\n",
    "\n",
    "***Roll number: 2311018***\n",
    "\n",
    "\n",
    "***Date: 21/08/2025***"
   ]
  },
  {
   "cell_type": "code",
   "execution_count": 131,
   "id": "099a82cb",
   "metadata": {},
   "outputs": [],
   "source": [
    "from mylib_3_2 import*"
   ]
  },
  {
   "cell_type": "markdown",
   "id": "52773efd",
   "metadata": {},
   "source": [
    "# Question 1\n",
    "\n",
    "LU decomposition using Doolittle's method"
   ]
  },
  {
   "cell_type": "code",
   "execution_count": 132,
   "id": "e8f368f6",
   "metadata": {},
   "outputs": [
    {
     "name": "stdout",
     "output_type": "stream",
     "text": [
      "L matrix:  [[1.0, 0, 0], [3.0, 1.0, 0], [2.0, 1.0, 1.0]] \n",
      " U matrix:  [[1, 2, 4], [0, 2.0, 2.0], [0, 0, 3.0]]\n"
     ]
    }
   ],
   "source": [
    "A = [[1, 2, 4], [3, 8, 14], [2, 6, 13]]        \n",
    "\n",
    "sol = LU_decompose(A)\n",
    "\n",
    "L, U = sol['L'], sol['U']\n",
    "print('L matrix: ', L, '\\n','U matrix: ',U)"
   ]
  },
  {
   "cell_type": "code",
   "execution_count": 136,
   "id": "a6d2ebd4",
   "metadata": {},
   "outputs": [
    {
     "name": "stdout",
     "output_type": "stream",
     "text": [
      "product: \n",
      " [[1.0, 2.0, 4.0], [3.0, 8.0, 14.0], [2.0, 6.0, 13.0]]\n"
     ]
    }
   ],
   "source": [
    "def matrix_multiply(A, B):\n",
    "    N = len(A)\n",
    "    AB = []\n",
    "    for i in range(N):\n",
    "        L = []\n",
    "        for j in range(N):\n",
    "            sum = 0\n",
    "            \n",
    "            for k in range(N):\n",
    "                sum += A[i][k]*B[k][j]\n",
    "            L.append(round(sum, 1))    \n",
    "        AB.append(L) \n",
    "    return AB\n",
    "\n",
    "C = matrix_multiply(L, U)\n",
    "print('product: \\n', C)       "
   ]
  },
  {
   "cell_type": "markdown",
   "id": "d7dd162c",
   "metadata": {},
   "source": [
    "# Question 2\n",
    "\n",
    "Solving system of linear equation using LU doolittle method"
   ]
  },
  {
   "cell_type": "code",
   "execution_count": 134,
   "id": "ded6a0a4",
   "metadata": {},
   "outputs": [
    {
     "name": "stdout",
     "output_type": "stream",
     "text": [
      "solution: \n",
      " [-1.761817043997862, 0.8962280338740133, 4.051931404116158, -1.6171308025395421, 2.041913538501913, 0.15183248715593525]\n"
     ]
    }
   ],
   "source": [
    "A = [[1, -1, 4, 0, 2, 9], [0, 5, -2, 7, 8, 4], [1, 0, 5, 7, 3 , -2], [6, -1, 2, 3, 0, 8], [-4, 2, 0, 5, -5, 3], [0, 7, -1, 5, 4, -2]]\n",
    "b = [19, 2, 13, -7, -9, 2]\n",
    "\n",
    "y = LU_solve(A, b)\n",
    "print('solution: \\n', y)   "
   ]
  }
 ],
 "metadata": {
  "kernelspec": {
   "display_name": "p346_env",
   "language": "python",
   "name": "python3"
  },
  "language_info": {
   "codemirror_mode": {
    "name": "ipython",
    "version": 3
   },
   "file_extension": ".py",
   "mimetype": "text/x-python",
   "name": "python",
   "nbconvert_exporter": "python",
   "pygments_lexer": "ipython3",
   "version": "3.11.13"
  }
 },
 "nbformat": 4,
 "nbformat_minor": 5
}
