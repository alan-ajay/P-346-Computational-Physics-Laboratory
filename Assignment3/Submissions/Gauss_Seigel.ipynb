{
 "cells": [
  {
   "cell_type": "markdown",
   "id": "90b811af",
   "metadata": {},
   "source": [
    "***Name: Alan Ajay***\n",
    "\n",
    "***Roll number: 2311018***\n",
    "\n",
    "***Date: 28/08/2025***"
   ]
  },
  {
   "cell_type": "code",
   "execution_count": 7,
   "id": "9dfb75b2",
   "metadata": {},
   "outputs": [],
   "source": [
    "import numpy as np"
   ]
  },
  {
   "cell_type": "code",
   "execution_count": 19,
   "id": "a30cad82",
   "metadata": {},
   "outputs": [],
   "source": [
    "A = [[4, 1, 1, 1], [1, 3, -1, 1], [1, -1, 2, 0], [1, 1, 0, 2]] \n",
    "b = [3, 3, 1, 3]"
   ]
  },
  {
   "cell_type": "code",
   "execution_count": null,
   "id": "fd937e00",
   "metadata": {},
   "outputs": [],
   "source": [
    "def Gauss_Seidel(A, b, e = 1e-6):\n",
    "    n = len(A)\n",
    "    x = [0]*n\n",
    "    stop = 1\n",
    "    while stop == True:\n",
    "        sum = 0\n",
    "        for i in range(n):\n",
    "            xi = x[i]\n",
    "            sum1, sum2 = 0, 0\n",
    "            for j in range(i):\n",
    "                sum1 += A[i][j]*x[j]\n",
    "            for j in range(i+1, n):\n",
    "                sum2 += A[i][j]*x[j]\n",
    "            x[i] = (b[i] - sum1 - sum2)/A[i][i]\n",
    "            delxi = (xi - x[i])**2\n",
    "            sum += delxi\n",
    "        d = np.sqrt(sum)\n",
    "        if d < e:\n",
    "            stop = False\n",
    "    return x\n",
    "\n",
    "Gauss_Seidel(A, b)    "
   ]
  }
 ],
 "metadata": {
  "kernelspec": {
   "display_name": "p346_env",
   "language": "python",
   "name": "python3"
  },
  "language_info": {
   "codemirror_mode": {
    "name": "ipython",
    "version": 3
   },
   "file_extension": ".py",
   "mimetype": "text/x-python",
   "name": "python",
   "nbconvert_exporter": "python",
   "pygments_lexer": "ipython3",
   "version": "3.11.13"
  }
 },
 "nbformat": 4,
 "nbformat_minor": 5
}
