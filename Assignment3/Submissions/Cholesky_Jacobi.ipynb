{
 "cells": [
  {
   "cell_type": "markdown",
   "id": "bdc8a212",
   "metadata": {},
   "source": [
    "***Name: Alan Ajay***\n",
    "\n",
    "***Roll number: 2311018***\n",
    "\n",
    "***Date: 27/08/2025***"
   ]
  },
  {
   "cell_type": "code",
   "execution_count": 1,
   "id": "2da711fd",
   "metadata": {},
   "outputs": [],
   "source": [
    "import numpy as np\n",
    "from mylib_3_1 import *"
   ]
  },
  {
   "cell_type": "markdown",
   "id": "3425298a",
   "metadata": {},
   "source": [
    "# Question1"
   ]
  },
  {
   "cell_type": "code",
   "execution_count": 2,
   "id": "39e15bce",
   "metadata": {},
   "outputs": [
    {
     "name": "stdout",
     "output_type": "stream",
     "text": [
      "Upper L matrix: \n",
      " [[np.float64(2.0), np.float64(6.0), np.float64(-8.0)], [0, np.float64(1.0), np.float64(5.0)], [0, 0, np.float64(3.0)]]\n"
     ]
    }
   ],
   "source": [
    "A = [[4, 12, -16], [12, 37, -43], [-16, -43, 98]]\n",
    "L = Cholesky_decomposition(A)  \n",
    "\n",
    "print('Upper L matrix: \\n', L)"
   ]
  },
  {
   "cell_type": "code",
   "execution_count": 3,
   "id": "f1ca9539",
   "metadata": {},
   "outputs": [
    {
     "name": "stdout",
     "output_type": "stream",
     "text": [
      "Transpose of A: \n",
      " [[4, 1, 1, 1], [1, 3, -1, 1], [1, -1, 2, 0], [1, 1, 0, 2]]\n"
     ]
    }
   ],
   "source": [
    "A = [[4, 1, 1, 1], [1, 3, -1, 1], [1, -1, 2, 0], [1, 1, 0, 2]]\n",
    "At = Transpose(A)\n",
    "print('Transpose of A: \\n', At)"
   ]
  },
  {
   "cell_type": "code",
   "execution_count": 4,
   "id": "cb5c8338",
   "metadata": {},
   "outputs": [
    {
     "name": "stdout",
     "output_type": "stream",
     "text": [
      "Solution of the linear system: \n",
      " [np.float64(0.0), np.float64(1.0), np.float64(1.0), np.float64(1.0000000000000002)]\n"
     ]
    }
   ],
   "source": [
    "A = [[4, 1, 1, 1], [1, 3, -1, 1], [1, -1, 2, 0], [1, 1, 0, 2]] \n",
    "b = [3, 3, 1, 3]\n",
    "\n",
    "x = Cholesky_solve(A, b)\n",
    "\n",
    "print('Solution of the linear system: \\n',x)\n"
   ]
  },
  {
   "cell_type": "markdown",
   "id": "226e7b5b",
   "metadata": {},
   "source": [
    "# Question2"
   ]
  },
  {
   "cell_type": "code",
   "execution_count": 5,
   "id": "fbb1715c",
   "metadata": {},
   "outputs": [
    {
     "name": "stdout",
     "output_type": "stream",
     "text": [
      "Solution of the linear system after 42 iterations: \n",
      " [0.0, 0.9999994039535522, 0.9999997019767761, 0.9999997019767761]\n"
     ]
    }
   ],
   "source": [
    "#jacobi iterations   \n",
    "e = 1e-6\n",
    "A = [[4, 1, 1, 1], [1, 3, -1, 1], [1, -1, 2, 0], [1, 1, 0, 2]]\n",
    "b = [3, 3, 1, 3]\n",
    "\n",
    "x, count = Jacobi_iter(A, b)    \n",
    "print(f'Solution of the linear system after {count} iterations: \\n',x)"
   ]
  }
 ],
 "metadata": {
  "kernelspec": {
   "display_name": "p346_env",
   "language": "python",
   "name": "python3"
  },
  "language_info": {
   "codemirror_mode": {
    "name": "ipython",
    "version": 3
   },
   "file_extension": ".py",
   "mimetype": "text/x-python",
   "name": "python",
   "nbconvert_exporter": "python",
   "pygments_lexer": "ipython3",
   "version": "3.11.13"
  }
 },
 "nbformat": 4,
 "nbformat_minor": 5
}
