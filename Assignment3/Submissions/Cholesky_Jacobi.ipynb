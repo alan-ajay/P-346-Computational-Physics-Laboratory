{
 "cells": [
  {
   "cell_type": "markdown",
   "id": "bdc8a212",
   "metadata": {},
   "source": [
    "***Name: Alan Ajay***\n",
    "\n",
    "***Roll number: 2311018***\n",
    "\n",
    "***Date: 14/08/2025***"
   ]
  },
  {
   "cell_type": "code",
   "execution_count": 1,
   "id": "2da711fd",
   "metadata": {},
   "outputs": [],
   "source": [
    "import numpy as np\n",
    "from mylib_3_1 import *"
   ]
  },
  {
   "cell_type": "markdown",
   "id": "3425298a",
   "metadata": {},
   "source": [
    "# Question1"
   ]
  },
  {
   "cell_type": "code",
   "execution_count": 3,
   "id": "39e15bce",
   "metadata": {},
   "outputs": [
    {
     "data": {
      "text/plain": [
       "[[np.float64(2.0), np.float64(6.0), np.float64(-8.0)],\n",
       " [0, np.float64(1.0), np.float64(5.0)],\n",
       " [0, 0, np.float64(3.0)]]"
      ]
     },
     "execution_count": 3,
     "metadata": {},
     "output_type": "execute_result"
    }
   ],
   "source": [
    "A = [[4, 12, -16], [12, 37, -43], [-16, -43, 98]]\n",
    "Cholesky_decomposition(A)    "
   ]
  },
  {
   "cell_type": "code",
   "execution_count": null,
   "id": "f1ca9539",
   "metadata": {},
   "outputs": [
    {
     "data": {
      "text/plain": [
       "[[4, 1, 1, 1], [1, 3, -1, 1], [1, -1, 2, 0], [1, 1, 0, 2]]"
      ]
     },
     "execution_count": 4,
     "metadata": {},
     "output_type": "execute_result"
    }
   ],
   "source": [
    "A = [[4, 1, 1, 1], [1, 3, -1, 1], [1, -1, 2, 0], [1, 1, 0, 2]]\n",
    "Transpose(A)"
   ]
  },
  {
   "cell_type": "code",
   "execution_count": 5,
   "id": "cb5c8338",
   "metadata": {},
   "outputs": [
    {
     "data": {
      "text/plain": [
       "[0.0, 1.0, 1.0, 1.0]"
      ]
     },
     "execution_count": 5,
     "metadata": {},
     "output_type": "execute_result"
    }
   ],
   "source": [
    "A = [[4, 1, 1, 1], [1, 3, -1, 1], [1, -1, 2, 0], [1, 1, 0, 2]] \n",
    "b = [3, 3, 1, 3]\n",
    "U = Cholesky_decomposition(A)\n",
    "L = Transpose(U)\n",
    "\n",
    "LU_solve(A, b)\n"
   ]
  },
  {
   "cell_type": "markdown",
   "id": "226e7b5b",
   "metadata": {},
   "source": [
    "# Question2"
   ]
  },
  {
   "cell_type": "code",
   "execution_count": null,
   "id": "fbb1715c",
   "metadata": {},
   "outputs": [
    {
     "name": "stdout",
     "output_type": "stream",
     "text": [
      "[0.0, 0.9999994039535522, 0.9999997019767761, 0.9999997019767761]\n"
     ]
    }
   ],
   "source": [
    "#Jacobi iteration\n",
    "e = 1e-6\n",
    "A = [[4, 1, 1, 1], [1, 3, -1, 1], [1, -1, 2, 0], [1, 1, 0, 2]]\n",
    "b = [3, 3, 1, 3]\n",
    "\n",
    "x = Jacobi_iter(A, b)    \n",
    "print(x)"
   ]
  }
 ],
 "metadata": {
  "kernelspec": {
   "display_name": "p346_env",
   "language": "python",
   "name": "python3"
  },
  "language_info": {
   "codemirror_mode": {
    "name": "ipython",
    "version": 3
   },
   "file_extension": ".py",
   "mimetype": "text/x-python",
   "name": "python",
   "nbconvert_exporter": "python",
   "pygments_lexer": "ipython3",
   "version": "3.11.13"
  }
 },
 "nbformat": 4,
 "nbformat_minor": 5
}
