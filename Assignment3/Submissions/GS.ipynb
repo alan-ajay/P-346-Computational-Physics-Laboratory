{
 "cells": [
  {
   "cell_type": "code",
   "execution_count": 1,
   "id": "ce9b5a8f",
   "metadata": {},
   "outputs": [],
   "source": [
    "import numpy as np\n",
    "from mylib_3 import *"
   ]
  },
  {
   "cell_type": "markdown",
   "id": "b70c2276",
   "metadata": {},
   "source": [
    "# Question1"
   ]
  },
  {
   "cell_type": "code",
   "execution_count": 2,
   "id": "88afa1ba",
   "metadata": {},
   "outputs": [
    {
     "name": "stdout",
     "output_type": "stream",
     "text": [
      "Is A symmetric:\n",
      " True\n",
      "\n",
      "Solution using Cholesky:\n",
      " [np.float64(1.0), np.float64(0.9999999999999999), np.float64(1.0), np.float64(1.0), np.float64(1.0), np.float64(1.0)]\n",
      "\n",
      "Solution using Gauss_Seidel in 16 iterations:\n",
      " [0.99999975 0.99999979 0.99999991 0.99999985 0.99999987 0.99999995]\n"
     ]
    }
   ],
   "source": [
    "A = [\n",
    "    [ 4, -1,  0, -1,  0,  0],\n",
    "    [-1,  4, -1,  0, -1,  0],\n",
    "    [ 0, -1,  4,  0,  0, -1],\n",
    "    [-1,  0,  0,  4, -1,  0],\n",
    "    [ 0, -1,  0, -1,  4, -1],\n",
    "    [ 0,  0, -1,  0, -1,  4],\n",
    "]\n",
    "b = [2, 1, 2, 2, 1, 2]\n",
    "\n",
    "print('Is A symmetric:\\n', is_symmetric(A))\n",
    "\n",
    "x_cholesky = Cholesky_solve(A, b)\n",
    "print(f'\\nSolution using Cholesky:\\n', x_cholesky)\n",
    "\n",
    "x_GaussSeidel, count2 = Gauss_Seidel(A, b)\n",
    "print(f'\\nSolution using Gauss_Seidel in {count2} iterations:\\n', x_GaussSeidel)"
   ]
  },
  {
   "cell_type": "markdown",
   "id": "13f0a586",
   "metadata": {},
   "source": [
    "# Question2"
   ]
  },
  {
   "cell_type": "code",
   "execution_count": 3,
   "id": "20063193",
   "metadata": {},
   "outputs": [
    {
     "name": "stdout",
     "output_type": "stream",
     "text": [
      "Is A symmetric:\n",
      " False\n",
      "\n",
      "Solution using Jacobi in 58 iterations:\n",
      " [2.9791649583226008, 2.215599258220273, 0.21128373337161171, 0.15231661140963978, 5.71503326456748]\n",
      "\n",
      "Solution using Gauss_Seidel in 12 iterations:\n",
      " [2.97916509 2.21559968 0.21128403 0.15231701 5.71503357]\n"
     ]
    }
   ],
   "source": [
    "A = [\n",
    "    [4, 0, 4, 10, 1],\n",
    "    [0, 4, 2, 0, 1],\n",
    "    [2, 5, 1, 3, 13],\n",
    "    [11, 3, 0, 1, 2],\n",
    "    [3, 2, 7, 1, 0],\n",
    "]\n",
    "\n",
    "b = [20, 15, 92, 51, 15]\n",
    "\n",
    "print('Is A symmetric:\\n', is_symmetric(A))\n",
    "row_swap(A, 4, 2)\n",
    "row_swap(A, 0, 3)\n",
    "row_swap(b, 4, 2)\n",
    "row_swap(b, 0, 3)\n",
    "\n",
    "x_Jacobi, count1 = Jacobi_iter(A, b)\n",
    "print(f'\\nSolution using Jacobi in {count1} iterations:\\n', x_Jacobi)\n",
    "\n",
    "x_GaussSeidel, count2 = Gauss_Seidel(A, b)\n",
    "print(f'\\nSolution using Gauss_Seidel in {count2} iterations:\\n', x_GaussSeidel)\n"
   ]
  },
  {
   "cell_type": "code",
   "execution_count": 5,
   "id": "9d5c9184",
   "metadata": {},
   "outputs": [
    {
     "name": "stdout",
     "output_type": "stream",
     "text": [
      "Solution using LU for verification:\n",
      " [2.97916519278387, 2.2155995755217543, 0.2112840466926071, 0.15231694375663235, 5.715033604527768]\n"
     ]
    }
   ],
   "source": [
    "x = LU_solve(A, b)\n",
    "print(f'Solution using LU for verification:\\n', x)"
   ]
  }
 ],
 "metadata": {
  "kernelspec": {
   "display_name": "p346_env",
   "language": "python",
   "name": "python3"
  },
  "language_info": {
   "codemirror_mode": {
    "name": "ipython",
    "version": 3
   },
   "file_extension": ".py",
   "mimetype": "text/x-python",
   "name": "python",
   "nbconvert_exporter": "python",
   "pygments_lexer": "ipython3",
   "version": "3.11.13"
  }
 },
 "nbformat": 4,
 "nbformat_minor": 5
}
