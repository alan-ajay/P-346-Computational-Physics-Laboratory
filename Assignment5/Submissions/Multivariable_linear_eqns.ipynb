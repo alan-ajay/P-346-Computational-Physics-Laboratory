{
 "cells": [
  {
   "cell_type": "markdown",
   "id": "b114d6d8",
   "metadata": {},
   "source": [
    "***Name: Alan Ajay***\n",
    "\n",
    "***Roll number: 2311018***\n",
    "\n",
    "***Date: 10/09/2025***"
   ]
  },
  {
   "cell_type": "code",
   "execution_count": null,
   "id": "58f972d4",
   "metadata": {},
   "outputs": [],
   "source": [
    "import numpy as np\n",
    "from Assignment5.Submissions.mylib5_1 import *"
   ]
  },
  {
   "cell_type": "markdown",
   "id": "38449ae7",
   "metadata": {},
   "source": [
    "# Question1"
   ]
  },
  {
   "cell_type": "code",
   "execution_count": 11,
   "id": "84378136",
   "metadata": {},
   "outputs": [],
   "source": [
    "def f1(x):\n",
    "    x1, x2, x3  = x\n",
    "    return x1**2 + x2 - 37\n",
    "def f2(x):\n",
    "    x1, x2, x3  = x    \n",
    "    return x1 - x2**2 - 5\n",
    "def f3(x):\n",
    "    x1, x2, x3  = x     \n",
    "    return x1 + x2 + x3 - 3\n",
    "\n",
    "f = [f1, f2, f3]"
   ]
  },
  {
   "cell_type": "code",
   "execution_count": 12,
   "id": "1cc2be4b",
   "metadata": {},
   "outputs": [
    {
     "name": "stdout",
     "output_type": "stream",
     "text": [
      "The root of the function after 10 steps using multivariable fixed point: [ 5.99999968  1.00000012 -4.0000041 ]\n"
     ]
    }
   ],
   "source": [
    "#fixed point method\n",
    "def g1(x):\n",
    "    x1, x2, x3 = x    \n",
    "    return np.sqrt(37 - x2)\n",
    "def g2(x):\n",
    "    x1, x2, x3 = x\n",
    "    return np.sqrt(x1 - 5)\n",
    "def g3(x):\n",
    "    x1, x2, x3 = x\n",
    "    return 3 - x1 - x2\n",
    "g = [g1, g2, g3]\n",
    "\n",
    "sol, count = multivar_fixed_point(g, [10, 0, 0])  \n",
    "\n",
    "print(f'The root of the function after {count} steps using multivariable fixed point: {sol}')"
   ]
  },
  {
   "cell_type": "markdown",
   "id": "99b4e57b",
   "metadata": {},
   "source": [
    "# Question2"
   ]
  },
  {
   "cell_type": "code",
   "execution_count": 13,
   "id": "0f1ed4eb",
   "metadata": {},
   "outputs": [],
   "source": [
    "def j11(x):\n",
    "    x1, x2, x3 = x    \n",
    "    return 2*x1\n",
    "\n",
    "def j22(x):\n",
    "    x1, x2, x3 = x    \n",
    "    return -2*x2\n",
    "\n",
    "def I(x):\n",
    "    return 1\n",
    "\n",
    "def O(x):\n",
    "    return 0\n",
    "\n",
    "J = [[j11, I, O], [I, j22, O], [I, I, I]]\n"
   ]
  },
  {
   "cell_type": "code",
   "execution_count": 14,
   "id": "176ca9b0",
   "metadata": {},
   "outputs": [
    {
     "name": "stdout",
     "output_type": "stream",
     "text": [
      "The root of the function after 5 steps using multivariable newton raphson: [ 6.  1. -4.]\n"
     ]
    }
   ],
   "source": [
    "#newton raphson\n",
    "\n",
    "sol, count = multivar_newton_raphson(f, J, [10, 1, 1])  \n",
    "print(f'The root of the function after {count} steps using multivariable newton raphson: {sol}')      "
   ]
  }
 ],
 "metadata": {
  "kernelspec": {
   "display_name": "p346_env",
   "language": "python",
   "name": "python3"
  },
  "language_info": {
   "codemirror_mode": {
    "name": "ipython",
    "version": 3
   },
   "file_extension": ".py",
   "mimetype": "text/x-python",
   "name": "python",
   "nbconvert_exporter": "python",
   "pygments_lexer": "ipython3",
   "version": "3.11.13"
  }
 },
 "nbformat": 4,
 "nbformat_minor": 5
}
