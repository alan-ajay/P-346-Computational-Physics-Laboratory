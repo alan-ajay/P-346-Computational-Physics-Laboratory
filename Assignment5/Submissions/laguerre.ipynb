{
 "cells": [
  {
   "cell_type": "markdown",
   "id": "7339ad82",
   "metadata": {},
   "source": [
    "***Name: Alan Ajay***\n",
    "\n",
    "***Roll number: 2311018***\n",
    "\n",
    "***Date: 10/09/2025***"
   ]
  },
  {
   "cell_type": "code",
   "execution_count": 1,
   "id": "e0c6bd36",
   "metadata": {},
   "outputs": [],
   "source": [
    "import numpy as np\n",
    "from mylib5_2 import*"
   ]
  },
  {
   "cell_type": "markdown",
   "id": "e9518f6c",
   "metadata": {},
   "source": [
    "# Question1"
   ]
  },
  {
   "cell_type": "code",
   "execution_count": 2,
   "id": "72e6c295",
   "metadata": {},
   "outputs": [
    {
     "name": "stdout",
     "output_type": "stream",
     "text": [
      "solutions to polynomial [1, -1, -7, 1, 6] is\n",
      " [1, np.float64(-0.9999999999999651), np.float64(2.999999999999993), np.float64(-2.0000000000000275)]\n",
      "\n",
      "solutions to polynomial [1, 0, -5, 0, 4] is\n",
      " [1, np.float64(1.9999999997991764), np.float64(-0.9999999991967057), np.float64(-2.000000000602471)]\n",
      "\n",
      "solutions to polynomial [2, 0, -19.5, 0.5, 13.5, -4.5] is\n",
      " [np.float64(0.5008380395816631), np.float64(0.49916157229566444), np.float64(-0.9999987180881742), np.float64(2.999999681994831), np.float64(-3.000000575783984)]\n",
      "\n"
     ]
    }
   ],
   "source": [
    "P1 = [1, -1, -7, 1, 6]\n",
    "P2 = [1, 0, -5, 0, 4]\n",
    "P3 = [2, 0, -19.5, 0.5, 13.5, -4.5]\n",
    "guess = [1, 1, 1, 1 ,1]\n",
    "\n",
    "sol1 = Laguerre_solve(P1, guess)\n",
    "sol2 = Laguerre_solve(P2, guess)\n",
    "sol3 = Laguerre_solve(P3, guess)\n",
    "\n",
    "print(f'solutions to polynomial {P1} is\\n {sol1}\\n')\n",
    "print(f'solutions to polynomial {P2} is\\n {sol2}\\n')\n",
    "print(f'solutions to polynomial {P3} is\\n {sol3}\\n')"
   ]
  }
 ],
 "metadata": {
  "kernelspec": {
   "display_name": "p346_env",
   "language": "python",
   "name": "python3"
  },
  "language_info": {
   "codemirror_mode": {
    "name": "ipython",
    "version": 3
   },
   "file_extension": ".py",
   "mimetype": "text/x-python",
   "name": "python",
   "nbconvert_exporter": "python",
   "pygments_lexer": "ipython3",
   "version": "3.11.13"
  }
 },
 "nbformat": 4,
 "nbformat_minor": 5
}
