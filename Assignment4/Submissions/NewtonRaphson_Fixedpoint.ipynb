{
 "cells": [
  {
   "cell_type": "markdown",
   "id": "4fea568c",
   "metadata": {},
   "source": [
    "***Name: Alan Ajay***\n",
    "\n",
    "***Roll number: 2311018***\n",
    "\n",
    "***Date: 4/09/2025***"
   ]
  },
  {
   "cell_type": "code",
   "execution_count": 1,
   "id": "581760c8",
   "metadata": {},
   "outputs": [],
   "source": [
    "import numpy as np\n",
    "from mylib4 import*"
   ]
  },
  {
   "cell_type": "markdown",
   "id": "0ab23d19",
   "metadata": {},
   "source": [
    "# Question1"
   ]
  },
  {
   "cell_type": "code",
   "execution_count": 3,
   "id": "b5c615fa",
   "metadata": {},
   "outputs": [],
   "source": [
    "def f1(x):\n",
    "    return 3*x + np.sin(x)-np.exp(x)\n",
    "\n",
    "def df1(x):\n",
    "    return 3 + np.cos(x) - np.exp(x)"
   ]
  },
  {
   "cell_type": "code",
   "execution_count": 4,
   "id": "b9de91ad",
   "metadata": {},
   "outputs": [
    {
     "name": "stdout",
     "output_type": "stream",
     "text": [
      "The root of the function after 23 steps using bisection: 0.3604220151901245\n"
     ]
    }
   ],
   "source": [
    "#bisection\n",
    "interval = [-1.5, 1.5]\n",
    "sol, count = bisection(f1, interval)\n",
    "\n",
    "print(f'The root of the function after {count} steps using bisection: {sol}')"
   ]
  },
  {
   "cell_type": "code",
   "execution_count": 5,
   "id": "cca81451",
   "metadata": {},
   "outputs": [
    {
     "name": "stdout",
     "output_type": "stream",
     "text": [
      "The root of the function after 11 steps using regula_falsi: 0.36042180364913606\n"
     ]
    }
   ],
   "source": [
    "interval = [-1.5, 1.5]\n",
    "sol, count = regula_falsi(f1, interval)\n",
    "\n",
    "print(f'The root of the function after {count} steps using regula_falsi: {sol}')\n"
   ]
  },
  {
   "cell_type": "code",
   "execution_count": 6,
   "id": "193db167",
   "metadata": {},
   "outputs": [
    {
     "name": "stdout",
     "output_type": "stream",
     "text": [
      "The root of the function after 4 steps using newton_raphson: 0.3604217029603242\n"
     ]
    }
   ],
   "source": [
    "\n",
    "sol, count = newton_raphson(f1, df1, 0)\n",
    "print(f'The root of the function after {count} steps using newton_raphson: {sol}')               \n",
    "\n"
   ]
  },
  {
   "cell_type": "markdown",
   "id": "fd564598",
   "metadata": {},
   "source": [
    "# Question2"
   ]
  },
  {
   "cell_type": "code",
   "execution_count": 8,
   "id": "074d312a",
   "metadata": {},
   "outputs": [],
   "source": [
    "def f2(x):\n",
    "    return x**2 - 2*x - 3\n",
    "\n",
    "def g(x):\n",
    "    return np.sqrt(2*x+3)"
   ]
  },
  {
   "cell_type": "code",
   "execution_count": 9,
   "id": "e08ae659",
   "metadata": {},
   "outputs": [
    {
     "name": "stdout",
     "output_type": "stream",
     "text": [
      "The bracketing of the function using beta as 0.5, after 1 steps : [2, 4]\n"
     ]
    }
   ],
   "source": [
    "interval = [2, 4]\n",
    "\n",
    "beta = .5\n",
    "sol, count = bracketing(f2, interval, beta=beta)\n",
    "print(f'The bracketing of the function using beta as {beta}, after {count} steps : {sol}')\n"
   ]
  },
  {
   "cell_type": "code",
   "execution_count": 10,
   "id": "688f1411",
   "metadata": {},
   "outputs": [
    {
     "name": "stdout",
     "output_type": "stream",
     "text": [
      "The root of the function after 14 steps using fixed_point: 3.0000001935533036\n"
     ]
    }
   ],
   "source": [
    "sol, count = fixed_point(f2, g, guess = 4)\n",
    "print(f'The root of the function after {count} steps using fixed_point: {sol}')               \n"
   ]
  }
 ],
 "metadata": {
  "kernelspec": {
   "display_name": "p346_env",
   "language": "python",
   "name": "python3"
  },
  "language_info": {
   "codemirror_mode": {
    "name": "ipython",
    "version": 3
   },
   "file_extension": ".py",
   "mimetype": "text/x-python",
   "name": "python",
   "nbconvert_exporter": "python",
   "pygments_lexer": "ipython3",
   "version": "3.11.13"
  }
 },
 "nbformat": 4,
 "nbformat_minor": 5
}
