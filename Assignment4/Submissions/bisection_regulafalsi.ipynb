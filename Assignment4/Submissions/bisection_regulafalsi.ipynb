{
 "cells": [
  {
   "cell_type": "markdown",
   "id": "261d1b2a",
   "metadata": {},
   "source": [
    "***Name: Alan Ajay***\n",
    "\n",
    "***Roll number: 2311018***\n",
    "\n",
    "***Date: 3/09/2025***"
   ]
  },
  {
   "cell_type": "code",
   "execution_count": 2,
   "id": "db3ff73c",
   "metadata": {},
   "outputs": [],
   "source": [
    "import numpy as np\n",
    "from mylib4 import*"
   ]
  },
  {
   "cell_type": "markdown",
   "id": "95e24d76",
   "metadata": {},
   "source": [
    "# Question1"
   ]
  },
  {
   "cell_type": "code",
   "execution_count": 3,
   "id": "bd41ca5c",
   "metadata": {},
   "outputs": [],
   "source": [
    "def f1(x):\n",
    "    return np.log(x/2) - np.sin((5*x)/2)"
   ]
  },
  {
   "cell_type": "code",
   "execution_count": 4,
   "id": "aa9f625c",
   "metadata": {},
   "outputs": [
    {
     "name": "stdout",
     "output_type": "stream",
     "text": [
      "The root of the function after 22 steps using bisection: 2.6231406927108765\n"
     ]
    }
   ],
   "source": [
    "\n",
    "\n",
    "\n",
    "interval = [1.5, 3.0]\n",
    "sol, count = bisection(f1, interval)\n",
    "\n",
    "print(f'The root of the function after {count} steps using bisection: {sol}')"
   ]
  },
  {
   "cell_type": "code",
   "execution_count": 5,
   "id": "a0fcc200",
   "metadata": {},
   "outputs": [
    {
     "name": "stdout",
     "output_type": "stream",
     "text": [
      "The root of the function after 10 steps using regula_falsi: 2.623140335436309\n"
     ]
    }
   ],
   "source": [
    "interval = [1.5, 3.0]\n",
    "\n",
    "sol, count = regula_falsi(f1, interval)\n",
    "\n",
    "print(f'The root of the function after {count} steps using regula_falsi: {sol}')"
   ]
  },
  {
   "cell_type": "markdown",
   "id": "fb484052",
   "metadata": {},
   "source": [
    "# Question2"
   ]
  },
  {
   "cell_type": "code",
   "execution_count": 6,
   "id": "216e29da",
   "metadata": {},
   "outputs": [],
   "source": [
    "def f2(x):\n",
    "    return -x-np.cos(x)"
   ]
  },
  {
   "cell_type": "code",
   "execution_count": 8,
   "id": "b33faee4",
   "metadata": {},
   "outputs": [
    {
     "name": "stdout",
     "output_type": "stream",
     "text": [
      "The bracketing of the function using beta as 0.5, after 4 steps : [-2.75, 4]\n"
     ]
    }
   ],
   "source": [
    "interval = [2, 4]\n",
    "\n",
    "beta = .5\n",
    "sol, count = bracketing(f2, interval, beta=beta)\n",
    "print(f'The bracketing of the function using beta as {beta}, after {count} steps : {sol}')\n"
   ]
  }
 ],
 "metadata": {
  "kernelspec": {
   "display_name": "p346_env",
   "language": "python",
   "name": "python3"
  },
  "language_info": {
   "codemirror_mode": {
    "name": "ipython",
    "version": 3
   },
   "file_extension": ".py",
   "mimetype": "text/x-python",
   "name": "python",
   "nbconvert_exporter": "python",
   "pygments_lexer": "ipython3",
   "version": "3.11.13"
  }
 },
 "nbformat": 4,
 "nbformat_minor": 5
}
