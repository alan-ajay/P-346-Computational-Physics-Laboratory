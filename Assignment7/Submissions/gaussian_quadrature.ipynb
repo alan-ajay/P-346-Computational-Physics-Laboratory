{
 "cells": [
  {
   "cell_type": "markdown",
   "id": "b8a65787",
   "metadata": {},
   "source": [
    "***Name: Alan Ajay***\n",
    "\n",
    "***Roll number: 2311018***\n",
    "\n",
    "***Date: 16/10/2025***"
   ]
  },
  {
   "cell_type": "code",
   "execution_count": 30,
   "id": "80565d0b",
   "metadata": {},
   "outputs": [],
   "source": [
    "import numpy as np\n",
    "import matplotlib.pyplot as plt\n",
    "import sys\n",
    "# Go up two levels to reach the folder containing alan_lib.py\n",
    "sys.path.append(\"../..\")\n",
    "from alan_lib import *"
   ]
  },
  {
   "cell_type": "code",
   "execution_count": null,
   "id": "f0e551e8",
   "metadata": {},
   "outputs": [],
   "source": [
    "#Integrate class imported from alan_lib\n",
    "gaussian_quad = Integrate.gaussian_quad\n",
    "gaussian_quad_accur = Integrate.gaussian_quad_accur\n",
    "simpson_accur = Integrate.simpson_accur"
   ]
  },
  {
   "cell_type": "markdown",
   "id": "c97e5606",
   "metadata": {},
   "source": [
    "# Question1\n"
   ]
  },
  {
   "cell_type": "code",
   "execution_count": null,
   "id": "fa7aea3f",
   "metadata": {},
   "outputs": [],
   "source": [
    "def f(x):\n",
    "    return x**2/(1+x**4)"
   ]
  },
  {
   "cell_type": "code",
   "execution_count": 33,
   "id": "5dfa1d7a",
   "metadata": {},
   "outputs": [
    {
     "name": "stdout",
     "output_type": "stream",
     "text": [
      "Gaussian: integral obtained as 0.4874954942585569 after 14 iteratons\n"
     ]
    }
   ],
   "source": [
    "sol, count = gaussian_quad_accur(f, 0.487495494, 1e-9, -1, 1)   \n",
    "print(f'Gaussian: integral obtained as {sol} after {count} iteratons')"
   ]
  },
  {
   "cell_type": "markdown",
   "id": "07b1011d",
   "metadata": {},
   "source": [
    "# Question2"
   ]
  },
  {
   "cell_type": "code",
   "execution_count": 34,
   "id": "e076873e",
   "metadata": {},
   "outputs": [],
   "source": [
    "def f2(x):\n",
    "    return np.sqrt(1+x**4)"
   ]
  },
  {
   "cell_type": "code",
   "execution_count": 35,
   "id": "c605ebc8",
   "metadata": {},
   "outputs": [
    {
     "name": "stdout",
     "output_type": "stream",
     "text": [
      "Gaussian: integral obtained as 1.0894294131091893 after 8 iteratons\n"
     ]
    }
   ],
   "source": [
    "sol, count = gaussian_quad_accur(f2, 1.089429413, 1e-9, 0, 1)    \n",
    "print(f'Gaussian: integral obtained as {sol} after {count} iteratons')"
   ]
  },
  {
   "cell_type": "code",
   "execution_count": 36,
   "id": "fec9fc27",
   "metadata": {},
   "outputs": [
    {
     "name": "stdout",
     "output_type": "stream",
     "text": [
      "Simpson: integral obtained as 1.0894294123885135 after 18 iteratons\n"
     ]
    }
   ],
   "source": [
    "sol, count = simpson_accur(f2, 0, 1, 1.089429413, 1e-9)\n",
    "print(f'Simpson: integral obtained as {sol} after {count} iteratons')"
   ]
  }
 ],
 "metadata": {
  "kernelspec": {
   "display_name": "p346_env",
   "language": "python",
   "name": "python3"
  },
  "language_info": {
   "codemirror_mode": {
    "name": "ipython",
    "version": 3
   },
   "file_extension": ".py",
   "mimetype": "text/x-python",
   "name": "python",
   "nbconvert_exporter": "python",
   "pygments_lexer": "ipython3",
   "version": "3.11.13"
  }
 },
 "nbformat": 4,
 "nbformat_minor": 5
}
