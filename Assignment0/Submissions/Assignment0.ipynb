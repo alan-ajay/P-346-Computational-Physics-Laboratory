{
 "cells": [
  {
   "cell_type": "markdown",
   "id": "fd945ba1",
   "metadata": {},
   "source": [
    "# Question 1"
   ]
  },
  {
   "cell_type": "code",
   "execution_count": 78,
   "id": "08b2212f",
   "metadata": {},
   "outputs": [
    {
     "name": "stdout",
     "output_type": "stream",
     "text": [
      "Sum = 400\n"
     ]
    }
   ],
   "source": [
    "# Sum of first 20 odd numbers\n",
    "\n",
    "count = 0\n",
    "sum = 0\n",
    "num = 0\n",
    "while count < 20:\n",
    "    if num % 2 != 0:\n",
    "        sum += num\n",
    "        count += 1\n",
    "    num += 1    \n",
    "print('Sum =', sum)        \n"
   ]
  },
  {
   "cell_type": "code",
   "execution_count": 79,
   "id": "11eb7a35",
   "metadata": {},
   "outputs": [
    {
     "name": "stdout",
     "output_type": "stream",
     "text": [
      "8! = 40320\n"
     ]
    }
   ],
   "source": [
    "# Factorial of N\n",
    "\n",
    "N  = 8\n",
    "prod = 1\n",
    "for i in range(N):\n",
    "    prod *= i+1\n",
    "print('8! =',prod)    "
   ]
  },
  {
   "cell_type": "markdown",
   "id": "78055634",
   "metadata": {},
   "source": [
    "# Question 2"
   ]
  },
  {
   "cell_type": "code",
   "execution_count": 95,
   "id": "72c64935",
   "metadata": {},
   "outputs": [
    {
     "name": "stdout",
     "output_type": "stream",
     "text": [
      "Sum of GP =  2.4999237060546875\n",
      "Sum of HP =  3.012170701620779\n"
     ]
    }
   ],
   "source": [
    "# sum of N = 15 terms of GP and HP starting from 1.25\n",
    "\n",
    "t_0 = 1.25\n",
    "N = 15\n",
    "d_gp  = 0.5\n",
    "d_hp = 1.5\n",
    "\n",
    "sum_GP = t_0\n",
    "elem_GP = t_0\n",
    "sum_HP = t_0\n",
    "elem_AP = 1/t_0\n",
    "\n",
    "for i in range(N-1):\n",
    "    elem_GP *= d_gp\n",
    "    sum_GP += elem_GP\n",
    "\n",
    "print('Sum of GP = ',sum_GP)\n",
    "\n",
    "for i in range(N-1):\n",
    "    elem_AP += d_hp\n",
    "    sum_HP += 1/elem_AP\n",
    "\n",
    "print('Sum of HP = ',sum_HP)"
   ]
  },
  {
   "cell_type": "markdown",
   "id": "7e066102",
   "metadata": {},
   "source": [
    "# Question 3"
   ]
  },
  {
   "cell_type": "code",
   "execution_count": null,
   "id": "d303cf80",
   "metadata": {},
   "outputs": [],
   "source": [
    "# User defined function to convert a matrix to a list of list\n",
    "def read_matrix(filename):\n",
    "    with open(filename, 'r') as f:\n",
    "        matrix = []\n",
    "        for line in f:\n",
    "            row = [float(num) for num in line.strip().split()]\n",
    "            matrix.append(row)\n",
    "    return matrix\n"
   ]
  },
  {
   "cell_type": "code",
   "execution_count": null,
   "id": "16435702",
   "metadata": {},
   "outputs": [
    {
     "name": "stdout",
     "output_type": "stream",
     "text": [
      "[[-0.3, -3.5, 5.2], [-4.5, -2.0, 4.5], [9.3, 0.8, -7.0]]\n"
     ]
    }
   ],
   "source": [
    "# Matrix multiplciation of A and B\n",
    "A = read_matrix('asgn0_matA')\n",
    "B = read_matrix('asgn0_matB')\n",
    "\n",
    "N = 3\n",
    "AB = []\n",
    "for i in range(N):\n",
    "    L = []\n",
    "    for j in range(N):\n",
    "        sum = 0\n",
    "        \n",
    "        for k in range(N):\n",
    "            sum += A[i][k]*B[k][j]\n",
    "        L.append(round(sum, 1))    \n",
    "    AB.append(L)   \n",
    "\n",
    "print(AB)\n"
   ]
  },
  {
   "cell_type": "code",
   "execution_count": null,
   "id": "1cf80b20",
   "metadata": {},
   "outputs": [
    {
     "name": "stdout",
     "output_type": "stream",
     "text": [
      "-3.5\n"
     ]
    }
   ],
   "source": [
    "# Dot product of D and C\n",
    "D = read_matrix('asgn0_vecD')\n",
    "C = read_matrix('asgn0_vecC')\n",
    "\n",
    "N = 3\n",
    "dot_product = 0\n",
    "\n",
    "for i in range(N):\n",
    "    dot_product += D[i][0]*C[i][0]\n",
    "\n",
    "print(dot_product)    "
   ]
  },
  {
   "cell_type": "code",
   "execution_count": 97,
   "id": "0e0a2178",
   "metadata": {},
   "outputs": [
    {
     "name": "stdout",
     "output_type": "stream",
     "text": [
      "[1.0, -5.75, -9.0]\n"
     ]
    }
   ],
   "source": [
    "# product of B and C\n",
    "B = read_matrix('asgn0_matB')\n",
    "C = read_matrix('asgn0_vecC')\n",
    "\n",
    "N = 3\n",
    "BC = []\n",
    "\n",
    "for i in range(N):\n",
    "    sum = 0\n",
    "    for j in range(N):\n",
    "        sum += B[i][j]*C[j][0]\n",
    "    BC.append(sum)\n",
    "\n",
    "print(BC)\n"
   ]
  },
  {
   "cell_type": "markdown",
   "id": "f35ed357",
   "metadata": {},
   "source": [
    "# Question 4"
   ]
  },
  {
   "cell_type": "code",
   "execution_count": 93,
   "id": "5a7fd3a6",
   "metadata": {},
   "outputs": [
    {
     "name": "stdout",
     "output_type": "stream",
     "text": [
      "\n",
      " Two complex\n",
      "1.3 -2.2j\n",
      "-0.8 1.7j\n",
      "\n",
      " Adding two complex\n",
      "0.5 -0.5000000000000002j\n",
      "\n",
      " Subtracting two complex\n",
      "2.1 -3.9000000000000004j\n",
      "\n",
      " Multiplying two complex\n",
      "2.7 3.97j\n",
      "\n",
      " Modulus of two complex\n",
      "c1 mod = 2.555\n",
      "c2 mod = 1.879\n"
     ]
    }
   ],
   "source": [
    "from Assignment0.Submissions.my_lib import *\n",
    "\n",
    "z1 = MyComplex(1.3, -2.2)\n",
    "z2 = MyComplex(-.8, 1.7)\n",
    "\n",
    "sum = MyComplex()\n",
    "sum.add_cmplx(z1, z2)\n",
    "\n",
    "diff = MyComplex()\n",
    "diff.sub_cmplx(z1, z2)\n",
    "\n",
    "prod = MyComplex()\n",
    "prod.mul_cmplx(z1, z2)\n",
    "\n",
    "mod_z1 = z1.mod_cmplx()\n",
    "mod_z2 = z2.mod_cmplx()\n",
    "\n",
    "print('\\n Two complex')\n",
    "z1.display_cmplx()\n",
    "z2.display_cmplx()\n",
    "print('\\n Adding two complex')\n",
    "sum.display_cmplx()\n",
    "print('\\n Subtracting two complex')\n",
    "diff.display_cmplx()\n",
    "print('\\n Multiplying two complex')\n",
    "prod.display_cmplx()\n",
    "print('\\n Modulus of two complex')\n",
    "print(f'c1 mod = {mod_z1:.3f}')\n",
    "print(f'c2 mod = {mod_z2:.3f}')"
   ]
  }
 ],
 "metadata": {
  "kernelspec": {
   "display_name": "p346_env",
   "language": "python",
   "name": "python3"
  },
  "language_info": {
   "codemirror_mode": {
    "name": "ipython",
    "version": 3
   },
   "file_extension": ".py",
   "mimetype": "text/x-python",
   "name": "python",
   "nbconvert_exporter": "python",
   "pygments_lexer": "ipython3",
   "version": "3.11.13"
  }
 },
 "nbformat": 4,
 "nbformat_minor": 5
}
